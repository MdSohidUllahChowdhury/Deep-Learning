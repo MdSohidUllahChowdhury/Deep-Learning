{
 "cells": [
  {
   "cell_type": "code",
   "execution_count": null,
   "id": "1f420e1e",
   "metadata": {},
   "outputs": [],
   "source": [
    "from ultralytics import YOLO\n",
    "model = YOLO(\"/Users/home/development/Project/Own Deep Learning Project/yolo11x.pt\")\n",
    "\n",
    "#* Perform prediction on an image\n",
    "model.predict(\n",
    "\t'cats.png',\n",
    "\tshow=True,\n",
    "\tsave=True,\n",
    "\tproject='ImageResults',   # Folder where results will be saved\n",
    ")"
   ]
  }
 ],
 "metadata": {
  "kernelspec": {
   "display_name": ".venv",
   "language": "python",
   "name": "python3"
  },
  "language_info": {
   "codemirror_mode": {
    "name": "ipython",
    "version": 3
   },
   "file_extension": ".py",
   "mimetype": "text/x-python",
   "name": "python",
   "nbconvert_exporter": "python",
   "pygments_lexer": "ipython3",
   "version": "3.13.7"
  }
 },
 "nbformat": 4,
 "nbformat_minor": 5
}
