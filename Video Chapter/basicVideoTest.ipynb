{
 "cells": [
  {
   "cell_type": "code",
   "execution_count": null,
   "id": "02622f8e",
   "metadata": {},
   "outputs": [],
   "source": [
    "from ultralytics import YOLO\n",
    "model = YOLO(\"yolo11x.pt\")  \n",
    "\n",
    "result = model.predict(\n",
    "    source='cars.mp4',\n",
    "    show=False,          \n",
    "    save=True,\n",
    "    project='results',   # Folder where results will be saved\n",
    "    name='cars_run'      # Subfolder for this run\n",
    ")\n",
    "\n",
    "print(result[0])  \n",
    "for i in result[0].boxes:\n",
    "    print(i)"
   ]
  }
 ],
 "metadata": {
  "kernelspec": {
   "display_name": ".venv",
   "language": "python",
   "name": "python3"
  },
  "language_info": {
   "codemirror_mode": {
    "name": "ipython",
    "version": 3
   },
   "file_extension": ".py",
   "mimetype": "text/x-python",
   "name": "python",
   "nbconvert_exporter": "python",
   "pygments_lexer": "ipython3",
   "version": "3.13.7"
  }
 },
 "nbformat": 4,
 "nbformat_minor": 5
}
